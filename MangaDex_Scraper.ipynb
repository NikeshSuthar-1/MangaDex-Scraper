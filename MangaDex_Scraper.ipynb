import pandas as pd
import requests
from bs4 import BeautifulSoup as Soup

def mangadex_scraper(page_id):
    '''
    DOC STRING
    
    
    INPUT:
    
    Takes a mangadex id of a manga and returns information about such items
    
    
    OUTPUT:
    
    Returns a dataframe of information about the manga in question
    
    EXAMPLE:
    
    input: mangadex_scraper(1)
    
    output:     1     [✓]     [✓]       [✓]        [✓]      8.89      8.93       Ongoing       875,693          [✓]       Tower of God
    
    
    '''
    new_url = 'https://mangadex.org/title/'
    user_agent = {'User-agent': 'Mozilla/5.0'}
    new_respose = requests.get(f'{new_url}{page_id}',headers=user_agent).content 
    n_dex = Soup(new_respose,'html.parser')
    df = pd.DataFrame()
    print(str(page_id).center(10),end='')
    for information in n_dex.findAll('div',class_='card mb-3'):
        dex_d = {'title':None, 'author(s)': None, 'artist(s)':None, 'demographic':None ,'genres':None,'b_rating':None, 'm_rating':None,
             'pub_stat':None,'views':None, 'description':None}
        dex_d['title'] = information.find('span',class_='mx-1').text
        for headers in information.findAll('div',class_='row m-0 py-1 px-0 border-top'):
            for header in headers.findAll('div',class_='col-lg-3 col-xl-2 strong'):
                if 'Author:' in header.text:
                    dex_d['author(s)']= headers.find('div',class_='col-lg-9 col-xl-10').text.strip().replace('\t','')

                if 'Artist' in header.text:
                    dex_d['artist(s)'] = headers.find('div',class_='col-lg-9 col-xl-10').text.strip().replace('\t','')

                if 'Demographic' in header.text:
                    dex_d['demographic'] = headers.find('div',class_='col-lg-9 col-xl-10').text

                if 'Genre:' in header.text:
                    dex_d['genres']=headers.find('div',class_='col-lg-9 col-xl-10').text

                if 'Rating:' in header.text:
                    dex_d['b_rating'] = headers.find('span',class_='text-primary').text.strip()
                    dex_d['m_rating'] = headers.find('li',class_="list-inline-item small").text.strip()

                if 'Pub. status:' in header.text:
                    dex_d['pub_stat'] = headers.find('div',class_='col-lg-9 col-xl-10').text

                if 'Stats:' in header.text:
                    dex_d['views'] = headers.find('li',class_='list-inline-item text-info').text.strip()

                if 'Description:' in header.text:
                    dex_d['description'] = headers.find('div',class_='col-lg-9 col-xl-10').text



                    if dex_d['author(s)'] is not None:
                        print('[✓]'.center(4), end ='')
                    else:
                        print('[ ]'.center(4), end ='')
                    if dex_d['artist(s)'] is not None:
                        print('[✓]'.center(11), end ='')
                    else:
                        print('[ ]'.center(11), end ='')
                    if dex_d['demographic'] is not None:
                        print('[✓]'.center(10), end ='')
                    else:
                        print('[ ]'.center(11), end ='')
                    if dex_d['genres'] is not None :
                        print('[✓]'.center(11), end ='')
                    else:
                        print('[ ]'.center(12), end ='')    
                    if dex_d['b_rating'] is not None:
                        print(dex_d["b_rating"].center(7), end ='')
                    else:
                        print('[ ]'.center(8), end ='')
                    if dex_d['m_rating'] is not None:
                        print(dex_d["m_rating"].center(13), end ='')
                    else:
                        print('[ ]'.center(14), end ='')
                    if dex_d['pub_stat'] is not None:
                        print(dex_d["pub_stat"].center(14), end ='')
                    if dex_d['views'] is not None:
                        print(dex_d["views"].center(14), end ='')
                    if dex_d['description'] == '':
                        print('[None]'.center(15),end='')
                    elif dex_d['description'] is not None:
                        print('[✓]'.center(16),end='')

                    print(dex_d["title"])

        df = df.append(dex_d,ignore_index=True)

    return df
